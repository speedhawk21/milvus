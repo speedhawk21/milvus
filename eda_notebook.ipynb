{
 "cells": [
  {
   "cell_type": "code",
   "execution_count": 4,
   "metadata": {},
   "outputs": [],
   "source": [
    "from dotenv import load_dotenv\n",
    "import os\n",
    "\n",
    "from langchain.chains import LLMChain\n",
    "from langchain.prompts import PromptTemplate\n",
    "from langchain_community.llms.octoai_endpoint import OctoAIEndpoint\n",
    "from langchain.text_splitter import CharacterTextSplitter\n",
    "from langchain.schema import Document\n",
    "\n",
    "from langchain_community.document_loaders import PyPDFLoader\n",
    "\n",
    "from langchain_community.embeddings import OctoAIEmbeddings\n",
    "from langchain_community.vectorstores import Milvus\n",
    "\n",
    "import pandas as pd\n",
    "\n",
    "# Set the maximum number of rows and columns to display\n",
    "pd.set_option('display.max_rows', None)  # None means show all rows\n",
    "pd.set_option('display.max_columns', None)  # None means show all columns\n",
    "# Adjust the overall width for displaying DataFrames in the notebook\n",
    "pd.set_option('display.width', 1000)\n",
    "\n",
    "\n",
    "# Optionally, set the maximum width of each column to avoid truncation\n",
    "pd.set_option('display.max_colwidth', None)  # None means no truncation\n",
    "\n",
    "\n",
    "load_dotenv()\n",
    "# print(os.environ[\"OCTOAI_API_TOKEN\"])\n",
    "os.environ[\"OCTOAI_API_TOKEN\"] = os.getenv(\"OCTOAI_API_TOKEN\", \"default_value\")"
   ]
  },
  {
   "cell_type": "code",
   "execution_count": 5,
   "metadata": {},
   "outputs": [],
   "source": [
    "embeddings = OctoAIEmbeddings(\n",
    "    endpoint_url=\"https://text.octoai.run/v1/embeddings\")"
   ]
  },
  {
   "cell_type": "code",
   "execution_count": 7,
   "metadata": {},
   "outputs": [
    {
     "data": {
      "text/html": [
       "<div>\n",
       "<style scoped>\n",
       "    .dataframe tbody tr th:only-of-type {\n",
       "        vertical-align: middle;\n",
       "    }\n",
       "\n",
       "    .dataframe tbody tr th {\n",
       "        vertical-align: top;\n",
       "    }\n",
       "\n",
       "    .dataframe thead th {\n",
       "        text-align: right;\n",
       "    }\n",
       "</style>\n",
       "<table border=\"1\" class=\"dataframe\">\n",
       "  <thead>\n",
       "    <tr style=\"text-align: right;\">\n",
       "      <th></th>\n",
       "      <th>0</th>\n",
       "      <th>1</th>\n",
       "      <th>2</th>\n",
       "    </tr>\n",
       "  </thead>\n",
       "  <tbody>\n",
       "    <tr>\n",
       "      <th>count</th>\n",
       "      <td>334</td>\n",
       "      <td>334</td>\n",
       "      <td>334</td>\n",
       "    </tr>\n",
       "    <tr>\n",
       "      <th>unique</th>\n",
       "      <td>333</td>\n",
       "      <td>334</td>\n",
       "      <td>1</td>\n",
       "    </tr>\n",
       "    <tr>\n",
       "      <th>top</th>\n",
       "      <td>(page_content, )</td>\n",
       "      <td>(metadata, {'source': 'data/TheNewStrategicSelling.pdf', 'page': 333})</td>\n",
       "      <td>(type, Document)</td>\n",
       "    </tr>\n",
       "    <tr>\n",
       "      <th>freq</th>\n",
       "      <td>2</td>\n",
       "      <td>1</td>\n",
       "      <td>334</td>\n",
       "    </tr>\n",
       "  </tbody>\n",
       "</table>\n",
       "</div>"
      ],
      "text/plain": [
       "                       0                                                                       1                 2\n",
       "count                334                                                                     334               334\n",
       "unique               333                                                                     334                 1\n",
       "top     (page_content, )  (metadata, {'source': 'data/TheNewStrategicSelling.pdf', 'page': 333})  (type, Document)\n",
       "freq                   2                                                                       1               334"
      ]
     },
     "execution_count": 7,
     "metadata": {},
     "output_type": "execute_result"
    }
   ],
   "source": [
    "pdf_file = \"data/TheNewStrategicSelling.pdf\"\n",
    "pdf_loader = PyPDFLoader(pdf_file)\n",
    "data = pdf_loader.load()\n",
    "\n",
    "data_df = pd.DataFrame(data)\n",
    "data_df.describe()"
   ]
  },
  {
   "cell_type": "code",
   "execution_count": 8,
   "metadata": {},
   "outputs": [
    {
     "data": {
      "text/html": [
       "<div>\n",
       "<style scoped>\n",
       "    .dataframe tbody tr th:only-of-type {\n",
       "        vertical-align: middle;\n",
       "    }\n",
       "\n",
       "    .dataframe tbody tr th {\n",
       "        vertical-align: top;\n",
       "    }\n",
       "\n",
       "    .dataframe thead th {\n",
       "        text-align: right;\n",
       "    }\n",
       "</style>\n",
       "<table border=\"1\" class=\"dataframe\">\n",
       "  <thead>\n",
       "    <tr style=\"text-align: right;\">\n",
       "      <th></th>\n",
       "      <th>0</th>\n",
       "      <th>1</th>\n",
       "      <th>2</th>\n",
       "    </tr>\n",
       "  </thead>\n",
       "  <tbody>\n",
       "    <tr>\n",
       "      <th>0</th>\n",
       "      <td>(page_content, )</td>\n",
       "      <td>(metadata, {'source': 'data/TheNewStrategicSelling.pdf', 'page': 0})</td>\n",
       "      <td>(type, Document)</td>\n",
       "    </tr>\n",
       "    <tr>\n",
       "      <th>1</th>\n",
       "      <td>(page_content, STRATEGIC\\tSELLING®\\tis\\ta\\tService\\tMark\\tof\\tMiller\\tHeiman,\\tInc.,\\t1595\\nMeadow\\tWood\\tLane,\\tSuite\\t2,\\tReno,\\tNV\\t89502\\nAll\\trights\\treserved.\\tWithout\\tthe\\twritten\\tauthorization\\tof\\tMiller\\tHeiman,\\tInc.,\\tno\\npart\\tof\\tthis\\tbook,\\twhether\\ttext,\\tdiagram,\\tchart\\tor\\tother\\tillustration,\\tand\\twhether\\nor\\tnot\\tit\\tcarries\\ta\\tfurther\\tcopyright\\tnotice,\\tmay\\tbe\\t(i)\\treproduced\\tin\\tany\\tform\\tor\\nby\\tany\\tmeans,\\telectronic\\tor\\tmechanical,\\tincluding\\tphotocopying,\\trecording,\\tor\\nby\\tany\\tinformation\\tstorage\\tand\\tretrieval\\tsystem;\\tor\\t(ii)\\tutilized\\tfor\\tany\\tbusiness\\npurpose\\tincluding,\\tbut\\tnot\\tlimited\\tto,\\tconducting\\tany\\ttraining\\tseminar.\\nGrand\\tCentral\\tPublishing\\tEdition\\nCopyright\\t©\\t1998\\tby\\tMiller\\tHeiman,\\tInc.\\nCopyright\\t©\\t1995\\tby\\tMiller\\tHeiman\\t&amp;\\tAssociates,\\tInc.\\nCharts\\tcopyright\\t©\\t1998\\tby\\tMiller\\tHeiman\\t&amp;\\tAssociates,\\tInc.\\nAll\\trights\\treserved.\\tExcept\\tas\\tpermitted\\tunder\\tthe\\tU.S.\\tCopyright\\tAct\\tof\\t1976,\\nno\\tpart\\tof\\tthis\\tpublication\\tmay\\tbe\\treproduced,\\tdistributed,\\tor\\ttransmitted\\tin\\tany\\nform\\tor\\tby\\tany\\tmeans,\\tor\\tstored\\tin\\ta\\tdatabase\\tor\\tretrieval\\tsystem,\\twithout\\tthe\\nprior\\twritten\\tpermission\\tof\\tthe\\tpublisher.\\nThis\\tGrand\\tCentral\\tPublishing\\tedition\\tis\\tpublished\\tby\\tarrangement\\twith\\tWilliam\\nMorrow\\tand\\tCompany,\\t1350\\tAvenue\\tof\\tthe\\tAmericas,\\tNew\\tYork,\\tNY\\t10019\\nBusiness\\tPlus\\nHachette\\tBook\\tGroup\\n237\\tPark\\tAvenue\\nNew\\tYork,\\tNY\\t10017\\nVisit\\tour\\tWeb\\tsite\\tat\\t\\nwww.HachetteBookGroup.com\\n.\\nThe\\tBusiness\\tPlus\\tname\\tand\\tlogo\\tis\\ta\\ttrademark\\tof\\tHachette\\tBook\\tGroup,\\tInc.\\nFirst\\teBook\\tEdition:\\tMarch\\t1986\\nISBN:\\t978-0-446-54878-6)</td>\n",
       "      <td>(metadata, {'source': 'data/TheNewStrategicSelling.pdf', 'page': 1})</td>\n",
       "      <td>(type, Document)</td>\n",
       "    </tr>\n",
       "    <tr>\n",
       "      <th>2</th>\n",
       "      <td>(page_content, Contents\\n\\t\\nPREFACE\\n\\t\\nFOREWORD\\n\\t\\nIF\\tIT\\tAIN’T\\tBROKE:\\tTHE\\t“WHY”\\tBEHIND\\tTHE\\tNEW\\tSTRATEGIC\\nSELLING\\n\\t\\nPART\\t1:\\tSTRATEGIC\\tSELLING\\n\\t\\nCHAPTER\\t1:\\tSUCCESSFUL\\tSELLING\\tIN\\tA\\tWORLD\\tOF\\tCONSTANT\\nCHANGE\\n\\t\\nCHAPTER\\t2:\\tSTRATEGY\\tAND\\tTACTICS\\tDEFINED\\n\\t\\nCHAPTER\\t3:\\tYOUR\\tSTARTING\\tPOINT:\\tPOSITION\\n\\t\\nCHAPTER\\t4:\\tA\\tGLANCE\\tAT\\tTHE\\tSTRATEGY\\tBLUEPRINT:\\tTHE\\tSIX\\tKEY\\nELEMENTS\\tOF\\tSTRATEGIC\\tSELLING\\n\\t\\nPART\\t2:\\tBUILDING\\tON\\tBEDROCK:\\tLAYING\\tTHE\\tFOUNDATION\\tOF\\nSTRATEGIC\\tANALYSIS\\n\\t\\nCHAPTER\\t5:\\tKEY\\tELEMENT\\t1:\\tBUYING\\tINFLUENCES\\n\\t)</td>\n",
       "      <td>(metadata, {'source': 'data/TheNewStrategicSelling.pdf', 'page': 2})</td>\n",
       "      <td>(type, Document)</td>\n",
       "    </tr>\n",
       "    <tr>\n",
       "      <th>3</th>\n",
       "      <td>(page_content, CHAPTER\\t6:\\tKEY\\tELEMENT\\t2:\\tRED\\tFLAGS/LEVERAGE\\tFROM\\nSTRENGTH\\n\\t\\nCHAPTER\\t7:\\tBUYER\\tLEVEL\\tOF\\tRECEPTIVITY\\n\\t\\nCHAPTER\\t8:\\tKEY\\tELEMENT\\t3:\\tTHE\\tFOUR\\tRESPONSE\\tMODES\\n\\t\\nCHAPTER\\t9:\\tTHE\\tIMPORTANCE\\tOF\\tWINNING\\n\\t\\nCHAPTER\\t10:\\tKEY\\tELEMENT\\t4:\\tWIN-RESULTS\\n\\t\\nPART\\t3:\\tCOMMON\\tPROBLEMS,\\tUNCOMMON\\tSOLUTIONS\\n\\t\\nCHAPTER\\t11:\\tGETTING\\tTO\\tTHE\\tECONOMIC\\tBUYING\\tINFLUENCE:\\nSTRATEGIES\\tAND\\tTACTICS\\n\\t\\nCHAPTER\\t12:\\tTHE\\tCOACH:\\tDEVELOPING\\tYOUR\\tPRIME\\nINFORMATION\\tRESOURCE\\n\\t\\nCHAPTER\\t13:\\tWHAT\\tABOUT\\tTHE\\tCOMPETITION?\\n\\t\\nPART\\t4:\\tSTRATEGY\\tAND\\tTERRITORY:\\tFOCUSING\\tON\\tYOUR\\tWIN-\\nWIN\\tCUSTOMERS\\n\\t\\nCHAPTER\\t14:\\tKEY\\tELEMENT\\t5:\\tIDEAL\\tCUSTOMER\\n\\t\\nCHAPTER\\t15:\\tYOUR\\tIDEAL\\tCUSTOMER\\tPROFILE:\\tDEMOGRAPHICS\\nAND\\tPSYCHOGRAPHICS\\n\\t\\nPART\\t5:\\tSTRATEGY\\tAND\\tTERRITORY:\\tMANAGING\\tYOUR\\nSELLING\\tTIME\\n\\t)</td>\n",
       "      <td>(metadata, {'source': 'data/TheNewStrategicSelling.pdf', 'page': 3})</td>\n",
       "      <td>(type, Document)</td>\n",
       "    </tr>\n",
       "    <tr>\n",
       "      <th>4</th>\n",
       "      <td>(page_content, CHAPTER\\t16:\\tOF\\tTIME,\\tTERRITORY,\\tAND\\tMONEY\\n\\t\\nCHAPTER\\t17:\\tKEY\\tELEMENT\\t6:\\tTHE\\tSALES\\tFUNNEL\\n\\t\\nCHAPTER\\t18:\\tPRIORITIES\\tAND\\tALLOCATION:\\tWORKING\\tTHE\\nFUNNEL\\n\\t\\nPART\\t6:\\tFROM\\tANALYSIS\\tTO\\tACTION\\n\\t\\nCHAPTER\\t19:\\tYOUR\\tACTION\\tPLAN\\n\\t\\nCHAPTER\\t20:\\tSTRATEGY\\tWHEN\\tYOU\\tHAVE\\tNO\\tTIME\\n\\t\\nCHAPTER\\t21:\\tSTRATEGIC\\tSELLING:\\tA\\tLIFETIME\\tAPPROACH\\n\\t\\nAFTER\\tTWENTY\\tYEARS:\\tRESPONDING\\tTO\\tOUR\\tCLIENTS’\\tMOST\\nCHALLENGING\\tQUESTIONS\\n\\t\\nAbout\\tMiller\\tHeiman\\n\\t\\n\\t\\n\\t)</td>\n",
       "      <td>(metadata, {'source': 'data/TheNewStrategicSelling.pdf', 'page': 4})</td>\n",
       "      <td>(type, Document)</td>\n",
       "    </tr>\n",
       "  </tbody>\n",
       "</table>\n",
       "</div>"
      ],
      "text/plain": [
       "                                                                                                                                                                                                                                                                                                                                                                                                                                                                                                                                                                                                                                                                                                                                                                                                                                                                                                                                                                                                                                                                                                                                                                                                                                                                                                                                                                                                                                                                                                                                                                                                                                                                                                                                                                           0  \\\n",
       "0                                                                                                                                                                                                                                                                                                                                                                                                                                                                                                                                                                                                                                                                                                                                                                                                                                                                                                                                                                                                                                                                                                                                                                                                                                                                                                                                                                                                                                                                                                                                                                                                                                                                                                                                                           (page_content, )   \n",
       "1  (page_content, STRATEGIC\\tSELLING®\\tis\\ta\\tService\\tMark\\tof\\tMiller\\tHeiman,\\tInc.,\\t1595\\nMeadow\\tWood\\tLane,\\tSuite\\t2,\\tReno,\\tNV\\t89502\\nAll\\trights\\treserved.\\tWithout\\tthe\\twritten\\tauthorization\\tof\\tMiller\\tHeiman,\\tInc.,\\tno\\npart\\tof\\tthis\\tbook,\\twhether\\ttext,\\tdiagram,\\tchart\\tor\\tother\\tillustration,\\tand\\twhether\\nor\\tnot\\tit\\tcarries\\ta\\tfurther\\tcopyright\\tnotice,\\tmay\\tbe\\t(i)\\treproduced\\tin\\tany\\tform\\tor\\nby\\tany\\tmeans,\\telectronic\\tor\\tmechanical,\\tincluding\\tphotocopying,\\trecording,\\tor\\nby\\tany\\tinformation\\tstorage\\tand\\tretrieval\\tsystem;\\tor\\t(ii)\\tutilized\\tfor\\tany\\tbusiness\\npurpose\\tincluding,\\tbut\\tnot\\tlimited\\tto,\\tconducting\\tany\\ttraining\\tseminar.\\nGrand\\tCentral\\tPublishing\\tEdition\\nCopyright\\t©\\t1998\\tby\\tMiller\\tHeiman,\\tInc.\\nCopyright\\t©\\t1995\\tby\\tMiller\\tHeiman\\t&\\tAssociates,\\tInc.\\nCharts\\tcopyright\\t©\\t1998\\tby\\tMiller\\tHeiman\\t&\\tAssociates,\\tInc.\\nAll\\trights\\treserved.\\tExcept\\tas\\tpermitted\\tunder\\tthe\\tU.S.\\tCopyright\\tAct\\tof\\t1976,\\nno\\tpart\\tof\\tthis\\tpublication\\tmay\\tbe\\treproduced,\\tdistributed,\\tor\\ttransmitted\\tin\\tany\\nform\\tor\\tby\\tany\\tmeans,\\tor\\tstored\\tin\\ta\\tdatabase\\tor\\tretrieval\\tsystem,\\twithout\\tthe\\nprior\\twritten\\tpermission\\tof\\tthe\\tpublisher.\\nThis\\tGrand\\tCentral\\tPublishing\\tedition\\tis\\tpublished\\tby\\tarrangement\\twith\\tWilliam\\nMorrow\\tand\\tCompany,\\t1350\\tAvenue\\tof\\tthe\\tAmericas,\\tNew\\tYork,\\tNY\\t10019\\nBusiness\\tPlus\\nHachette\\tBook\\tGroup\\n237\\tPark\\tAvenue\\nNew\\tYork,\\tNY\\t10017\\nVisit\\tour\\tWeb\\tsite\\tat\\t\\nwww.HachetteBookGroup.com\\n.\\nThe\\tBusiness\\tPlus\\tname\\tand\\tlogo\\tis\\ta\\ttrademark\\tof\\tHachette\\tBook\\tGroup,\\tInc.\\nFirst\\teBook\\tEdition:\\tMarch\\t1986\\nISBN:\\t978-0-446-54878-6)   \n",
       "2                                                                                                                                                                                                                                                                                                                                                                                                                                                                                                                                                                                                                                                                                                                                                                                                                                                                                                                                                                                                                                                                                                                                                           (page_content, Contents\\n\\t\\nPREFACE\\n\\t\\nFOREWORD\\n\\t\\nIF\\tIT\\tAIN’T\\tBROKE:\\tTHE\\t“WHY”\\tBEHIND\\tTHE\\tNEW\\tSTRATEGIC\\nSELLING\\n\\t\\nPART\\t1:\\tSTRATEGIC\\tSELLING\\n\\t\\nCHAPTER\\t1:\\tSUCCESSFUL\\tSELLING\\tIN\\tA\\tWORLD\\tOF\\tCONSTANT\\nCHANGE\\n\\t\\nCHAPTER\\t2:\\tSTRATEGY\\tAND\\tTACTICS\\tDEFINED\\n\\t\\nCHAPTER\\t3:\\tYOUR\\tSTARTING\\tPOINT:\\tPOSITION\\n\\t\\nCHAPTER\\t4:\\tA\\tGLANCE\\tAT\\tTHE\\tSTRATEGY\\tBLUEPRINT:\\tTHE\\tSIX\\tKEY\\nELEMENTS\\tOF\\tSTRATEGIC\\tSELLING\\n\\t\\nPART\\t2:\\tBUILDING\\tON\\tBEDROCK:\\tLAYING\\tTHE\\tFOUNDATION\\tOF\\nSTRATEGIC\\tANALYSIS\\n\\t\\nCHAPTER\\t5:\\tKEY\\tELEMENT\\t1:\\tBUYING\\tINFLUENCES\\n\\t)   \n",
       "3                                                                                                                                                                                                                                                                                                                                                                                                                                                                                                                                                                                                                                                                                                                                                                                                                                                                             (page_content, CHAPTER\\t6:\\tKEY\\tELEMENT\\t2:\\tRED\\tFLAGS/LEVERAGE\\tFROM\\nSTRENGTH\\n\\t\\nCHAPTER\\t7:\\tBUYER\\tLEVEL\\tOF\\tRECEPTIVITY\\n\\t\\nCHAPTER\\t8:\\tKEY\\tELEMENT\\t3:\\tTHE\\tFOUR\\tRESPONSE\\tMODES\\n\\t\\nCHAPTER\\t9:\\tTHE\\tIMPORTANCE\\tOF\\tWINNING\\n\\t\\nCHAPTER\\t10:\\tKEY\\tELEMENT\\t4:\\tWIN-RESULTS\\n\\t\\nPART\\t3:\\tCOMMON\\tPROBLEMS,\\tUNCOMMON\\tSOLUTIONS\\n\\t\\nCHAPTER\\t11:\\tGETTING\\tTO\\tTHE\\tECONOMIC\\tBUYING\\tINFLUENCE:\\nSTRATEGIES\\tAND\\tTACTICS\\n\\t\\nCHAPTER\\t12:\\tTHE\\tCOACH:\\tDEVELOPING\\tYOUR\\tPRIME\\nINFORMATION\\tRESOURCE\\n\\t\\nCHAPTER\\t13:\\tWHAT\\tABOUT\\tTHE\\tCOMPETITION?\\n\\t\\nPART\\t4:\\tSTRATEGY\\tAND\\tTERRITORY:\\tFOCUSING\\tON\\tYOUR\\tWIN-\\nWIN\\tCUSTOMERS\\n\\t\\nCHAPTER\\t14:\\tKEY\\tELEMENT\\t5:\\tIDEAL\\tCUSTOMER\\n\\t\\nCHAPTER\\t15:\\tYOUR\\tIDEAL\\tCUSTOMER\\tPROFILE:\\tDEMOGRAPHICS\\nAND\\tPSYCHOGRAPHICS\\n\\t\\nPART\\t5:\\tSTRATEGY\\tAND\\tTERRITORY:\\tMANAGING\\tYOUR\\nSELLING\\tTIME\\n\\t)   \n",
       "4                                                                                                                                                                                                                                                                                                                                                                                                                                                                                                                                                                                                                                                                                                                                                                                                                                                                                                                                                                                                                                                                                                                                                                                                                                          (page_content, CHAPTER\\t16:\\tOF\\tTIME,\\tTERRITORY,\\tAND\\tMONEY\\n\\t\\nCHAPTER\\t17:\\tKEY\\tELEMENT\\t6:\\tTHE\\tSALES\\tFUNNEL\\n\\t\\nCHAPTER\\t18:\\tPRIORITIES\\tAND\\tALLOCATION:\\tWORKING\\tTHE\\nFUNNEL\\n\\t\\nPART\\t6:\\tFROM\\tANALYSIS\\tTO\\tACTION\\n\\t\\nCHAPTER\\t19:\\tYOUR\\tACTION\\tPLAN\\n\\t\\nCHAPTER\\t20:\\tSTRATEGY\\tWHEN\\tYOU\\tHAVE\\tNO\\tTIME\\n\\t\\nCHAPTER\\t21:\\tSTRATEGIC\\tSELLING:\\tA\\tLIFETIME\\tAPPROACH\\n\\t\\nAFTER\\tTWENTY\\tYEARS:\\tRESPONDING\\tTO\\tOUR\\tCLIENTS’\\tMOST\\nCHALLENGING\\tQUESTIONS\\n\\t\\nAbout\\tMiller\\tHeiman\\n\\t\\n\\t\\n\\t)   \n",
       "\n",
       "                                                                      1                 2  \n",
       "0  (metadata, {'source': 'data/TheNewStrategicSelling.pdf', 'page': 0})  (type, Document)  \n",
       "1  (metadata, {'source': 'data/TheNewStrategicSelling.pdf', 'page': 1})  (type, Document)  \n",
       "2  (metadata, {'source': 'data/TheNewStrategicSelling.pdf', 'page': 2})  (type, Document)  \n",
       "3  (metadata, {'source': 'data/TheNewStrategicSelling.pdf', 'page': 3})  (type, Document)  \n",
       "4  (metadata, {'source': 'data/TheNewStrategicSelling.pdf', 'page': 4})  (type, Document)  "
      ]
     },
     "execution_count": 8,
     "metadata": {},
     "output_type": "execute_result"
    }
   ],
   "source": [
    "data_df.head(5)"
   ]
  },
  {
   "cell_type": "code",
   "execution_count": 9,
   "metadata": {},
   "outputs": [
    {
     "name": "stdout",
     "output_type": "stream",
     "text": [
      "0    {'source': 'data/TheNewStrategicSelling.pdf', 'page': 0}\n",
      "1    {'source': 'data/TheNewStrategicSelling.pdf', 'page': 1}\n",
      "2    {'source': 'data/TheNewStrategicSelling.pdf', 'page': 2}\n",
      "3    {'source': 'data/TheNewStrategicSelling.pdf', 'page': 3}\n",
      "4    {'source': 'data/TheNewStrategicSelling.pdf', 'page': 4}\n",
      "Name: metadata, dtype: object\n"
     ]
    }
   ],
   "source": [
    "data_df['page_content'] = data_df[0].apply(lambda x: x[1])\n",
    "data_df['metadata'] = data_df[1].apply(lambda x: x[1])\n",
    "\n",
    "print(data_df['metadata'].head(5))"
   ]
  },
  {
   "cell_type": "code",
   "execution_count": 10,
   "metadata": {},
   "outputs": [],
   "source": [
    "# Iterate through dataframe and create a document for each row\n",
    "documents = []\n",
    "for i, row in data_df.iterrows():\n",
    "    document = Document(\n",
    "        page_content=row[\"page_content\"],\n",
    "        metadata={\"page\": row[\"metadata\"][\"page\"]}\n",
    "    )\n",
    "    documents.append(document)"
   ]
  },
  {
   "cell_type": "code",
   "execution_count": 11,
   "metadata": {},
   "outputs": [
    {
     "name": "stdout",
     "output_type": "stream",
     "text": [
      "Loaded 334 documents\n"
     ]
    }
   ],
   "source": [
    "print(f\"Loaded {len(documents)} documents\")"
   ]
  },
  {
   "cell_type": "code",
   "execution_count": 12,
   "metadata": {},
   "outputs": [
    {
     "name": "stdout",
     "output_type": "stream",
     "text": [
      "Document: page_content='STRATEGIC\\tSELLING®\\tis\\ta\\tService\\tMark\\tof\\tMiller\\tHeiman,\\tInc.,\\t1595\\nMeadow\\tWood\\tLane,\\tSuite\\t2,\\tReno,\\tNV\\t89502\\nAll\\trights\\treserved.\\tWithout\\tthe\\twritten\\tauthorization\\tof\\tMiller\\tHeiman,\\tInc.,\\tno\\npart\\tof\\tthis\\tbook,\\twhether\\ttext,\\tdiagram,\\tchart\\tor\\tother\\tillustration,\\tand\\twhether\\nor\\tnot\\tit\\tcarries\\ta\\tfurther\\tcopyright\\tnotice,\\tmay\\tbe\\t(i)\\treproduced\\tin\\tany\\tform\\tor\\nby\\tany\\tmeans,\\telectronic\\tor\\tmechanical,\\tincluding\\tphotocopying,\\trecording,\\tor\\nby\\tany\\tinformation\\tstorage\\tand\\tretrieval\\tsystem;\\tor\\t(ii)\\tutilized\\tfor\\tany\\tbusiness\\npurpose\\tincluding,\\tbut\\tnot\\tlimited\\tto,\\tconducting\\tany\\ttraining\\tseminar.\\nGrand\\tCentral\\tPublishing\\tEdition\\nCopyright\\t©\\t1998\\tby\\tMiller\\tHeiman,\\tInc.\\nCopyright\\t©\\t1995\\tby\\tMiller\\tHeiman\\t&\\tAssociates,\\tInc.\\nCharts\\tcopyright\\t©\\t1998\\tby\\tMiller\\tHeiman\\t&\\tAssociates,\\tInc.\\nAll\\trights\\treserved.\\tExcept\\tas\\tpermitted\\tunder\\tthe\\tU.S.\\tCopyright\\tAct\\tof\\t1976,\\nno\\tpart\\tof\\tthis\\tpublication\\tmay\\tbe\\treproduced,\\tdistributed,\\tor\\ttransmitted\\tin\\tany\\nform\\tor\\tby\\tany\\tmeans,\\tor\\tstored\\tin\\ta\\tdatabase\\tor\\tretrieval\\tsystem,\\twithout\\tthe\\nprior\\twritten\\tpermission\\tof\\tthe\\tpublisher.\\nThis\\tGrand\\tCentral\\tPublishing\\tedition\\tis\\tpublished\\tby\\tarrangement\\twith\\tWilliam\\nMorrow\\tand\\tCompany,\\t1350\\tAvenue\\tof\\tthe\\tAmericas,\\tNew\\tYork,\\tNY\\t10019\\nBusiness\\tPlus\\nHachette\\tBook\\tGroup\\n237\\tPark\\tAvenue\\nNew\\tYork,\\tNY\\t10017\\nVisit\\tour\\tWeb\\tsite\\tat\\t\\nwww.HachetteBookGroup.com\\n.\\nThe\\tBusiness\\tPlus\\tname\\tand\\tlogo\\tis\\ta\\ttrademark\\tof\\tHachette\\tBook\\tGroup,\\tInc.\\nFirst\\teBook\\tEdition:\\tMarch\\t1986\\nISBN:\\t978-0-446-54878-6' metadata={'page': 1}\n"
     ]
    }
   ],
   "source": [
    "print(f\"Document: {documents[1]}\")"
   ]
  },
  {
   "cell_type": "code",
   "execution_count": 13,
   "metadata": {},
   "outputs": [],
   "source": [
    "vector_store = Milvus.from_documents(\n",
    "    documents=documents,\n",
    "    embedding=embeddings,\n",
    "    connection_args={\"host\": \"localhost\", \"port\": 19530},\n",
    "    collection_name=\"millertime\"\n",
    ")"
   ]
  },
  {
   "cell_type": "code",
   "execution_count": 14,
   "metadata": {},
   "outputs": [],
   "source": [
    "llm = OctoAIEndpoint(\n",
    "    endpoint_url=\"https://text.octoai.run/v1/chat/completions\",\n",
    "    model_kwargs={\n",
    "        \"model\": \"mixtral-8x7b-instruct-fp16\",\n",
    "        \"max_tokens\": 1024,\n",
    "        \"presence_penalty\": 0,\n",
    "        \"temperature\": 0.01,\n",
    "        \"top_p\": 0.9,\n",
    "        \"messages\": [\n",
    "            {\n",
    "                \"role\": \"system\",\n",
    "                \"content\": \"You are a helpful assistant. Keep your responses limited to one short paragraph if possible.\",\n",
    "            },\n",
    "        ],\n",
    "    },\n",
    ")"
   ]
  },
  {
   "cell_type": "code",
   "execution_count": 15,
   "metadata": {},
   "outputs": [],
   "source": [
    "retriever = vector_store.as_retriever()"
   ]
  },
  {
   "cell_type": "code",
   "execution_count": 16,
   "metadata": {},
   "outputs": [],
   "source": [
    "template = \"\"\"Answer the question based only on the following context:\n",
    "{context}\n",
    "\n",
    "You have knowledge around Miller Heiman sales methodologies and overall business development strategies. Below is an instruction that describes a request from a sales agent looking for helpful information to provide a customer or help close a deal.\n",
    "The target customer that the agent is speaking with has a job title of {job_title}. Apply the 6 core concepts of solution selling that can benefit a sales agent with these additional details:\n",
    "- Decision Maker: {is_decision_maker}\n",
    "- Sales Stage: {stage_of_sales}\n",
    "- Main Challenges: {challenges}\n",
    "- Deal Risk: {deal_risk}\n",
    "- Deal Size: {deal_size}\n",
    "- Custom Notes: {custom_notes}\n",
    "- Potential Solution Features: {solution_features}\n",
    "- Key Benefits: {key_benefits}\n",
    "- Customization Options: {customization_options}\n",
    "- Integration Points: {integration_points}\n",
    "Write a response that appropriately completes the request.\n",
    "Instruction:\n",
    "{question}\n",
    "Response: \"\"\"\n",
    "\n",
    "prompt = PromptTemplate.from_template(template)"
   ]
  },
  {
   "cell_type": "code",
   "execution_count": 17,
   "metadata": {},
   "outputs": [],
   "source": [
    "data = {\n",
    "    'context': retriever,\n",
    "    'job_title': \"VP of Marketing\",\n",
    "    'is_decision_maker': \"Yes\",\n",
    "    'stage_of_sales': \"Qualification\",\n",
    "    'challenges': \"Competitor has a better product\",\n",
    "    'deal_risk': \"High\",\n",
    "    'deal_size': \"Large\",\n",
    "    'custom_notes': \"Customer is interested in a long term partnership\",\n",
    "    'question': \"What is the best introduction to a VP of Marketing at coca cola for our Tableau Server product?\",\n",
    "    'solution_features': \"Advanced data visualization, real-time analytics\",\n",
    "    'key_benefits': \"Enhanced decision-making capabilities, increased ROI\",\n",
    "    'customization_options': \"Custom dashboards, branded reports\",\n",
    "    'integration_points': \"CRM integration, social media analytics\"\n",
    "}"
   ]
  },
  {
   "cell_type": "code",
   "execution_count": 18,
   "metadata": {},
   "outputs": [],
   "source": [
    "from langchain_core.runnables import RunnablePassthrough\n",
    "from langchain_core.output_parsers import StrOutputParser\n",
    "\n",
    "\n",
    "chain = (\n",
    "    RunnablePassthrough()\n",
    "    | prompt\n",
    "    | llm\n",
    "    | StrOutputParser()\n",
    ")"
   ]
  },
  {
   "cell_type": "code",
   "execution_count": 19,
   "metadata": {},
   "outputs": [
    {
     "name": "stdout",
     "output_type": "stream",
     "text": [
      " When introducing our Tableau Server product to the VP of Marketing at Coca Cola, it's crucial to focus on how our solution can address their main challenges, such as the competitor's better product. Begin by emphasizing the key benefits of our solution, like enhanced decision-making capabilities and increased ROI, which directly address their concerns. Mention the potential solution features like advanced data visualization and real-time analytics, which can provide a competitive edge. Highlight the customization options, such as custom dashboards and branded reports, to show that our solution can be tailored to their specific needs. Lastly, discuss integration points, like CRM integration and social media analytics, to demonstrate how our product can seamlessly fit into their existing marketing technology stack. Since they are interested in a long-term partnership, reassure them of our commitment to their success and our ability to support their marketing strategies in the long run.\n"
     ]
    },
    {
     "data": {
      "text/plain": [
       "None"
      ]
     },
     "metadata": {},
     "output_type": "display_data"
    }
   ],
   "source": [
    "output = chain.invoke(data)\n",
    "\n",
    "display(print(output))"
   ]
  },
  {
   "cell_type": "code",
   "execution_count": null,
   "metadata": {},
   "outputs": [],
   "source": []
  }
 ],
 "metadata": {
  "kernelspec": {
   "display_name": ".venv",
   "language": "python",
   "name": "python3"
  },
  "language_info": {
   "codemirror_mode": {
    "name": "ipython",
    "version": 3
   },
   "file_extension": ".py",
   "mimetype": "text/x-python",
   "name": "python",
   "nbconvert_exporter": "python",
   "pygments_lexer": "ipython3",
   "version": "3.12.2"
  }
 },
 "nbformat": 4,
 "nbformat_minor": 2
}
